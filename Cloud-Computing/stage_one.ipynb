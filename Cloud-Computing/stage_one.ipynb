{
 "cells": [
  {
   "cell_type": "code",
   "execution_count": 0,
   "metadata": {
    "colab": {},
    "colab_type": "code",
    "id": "Qx0-vDAx0Wd4"
   },
   "outputs": [],
   "source": [
    "from pyspark.sql import SparkSession\n",
    "from pyspark.sql.types import *"
   ]
  },
  {
   "cell_type": "code",
   "execution_count": 0,
   "metadata": {
    "colab": {},
    "colab_type": "code",
    "id": "sq06iGaP0beY"
   },
   "outputs": [],
   "source": [
    "spark = SparkSession \\\n",
    "    .builder \\\n",
    "    .appName(\"Python Spark Stage One\") \\\n",
    "    .getOrCreate()"
   ]
  },
  {
   "cell_type": "code",
   "execution_count": 0,
   "metadata": {
    "colab": {},
    "colab_type": "code",
    "id": "zIekTS7B0eZl"
   },
   "outputs": [],
   "source": [
    "music_data = 's3://amazon-reviews-pds/tsv/amazon_reviews_us_Music_v1_00.tsv.gz'"
   ]
  },
  {
   "cell_type": "code",
   "execution_count": 0,
   "metadata": {
    "colab": {},
    "colab_type": "code",
    "id": "t39m1mFK68iZ"
   },
   "outputs": [],
   "source": [
    "musics= spark.read.csv(music_data,header=True,sep='\\t')"
   ]
  },
  {
   "cell_type": "markdown",
   "metadata": {
    "colab_type": "text",
    "id": "W2zHouKc-sgZ"
   },
   "source": [
    "the total number of review"
   ]
  },
  {
   "cell_type": "code",
   "execution_count": 0,
   "metadata": {
    "colab": {
     "base_uri": "https://localhost:8080/",
     "height": 35
    },
    "colab_type": "code",
    "id": "M7wMstMW-tVb",
    "outputId": "8eaca3cf-3019-4ac4-be0d-d5a81f37b56c"
   },
   "outputs": [
    {
     "data": {
      "text/plain": [
       "49"
      ]
     },
     "execution_count": 55,
     "metadata": {
      "tags": []
     },
     "output_type": "execute_result"
    }
   ],
   "source": [
    "musics.count()#distinct"
   ]
  },
  {
   "cell_type": "markdown",
   "metadata": {
    "colab_type": "text",
    "id": "5Yc-S9IZ-77W"
   },
   "source": [
    "the number of unique user"
   ]
  },
  {
   "cell_type": "code",
   "execution_count": 0,
   "metadata": {
    "colab": {
     "base_uri": "https://localhost:8080/",
     "height": 35
    },
    "colab_type": "code",
    "id": "bWMFP7IA-7I0",
    "outputId": "b850a567-bbb3-4ae0-cbc2-9643f48f4f4e"
   },
   "outputs": [
    {
     "data": {
      "text/plain": [
       "48"
      ]
     },
     "execution_count": 47,
     "metadata": {
      "tags": []
     },
     "output_type": "execute_result"
    }
   ],
   "source": [
    "musics.groupBy('customer_id').count().count()"
   ]
  },
  {
   "cell_type": "markdown",
   "metadata": {
    "colab_type": "text",
    "id": "poEiPYF7_9MY"
   },
   "source": [
    "the number of unique products"
   ]
  },
  {
   "cell_type": "code",
   "execution_count": 0,
   "metadata": {
    "colab": {
     "base_uri": "https://localhost:8080/",
     "height": 35
    },
    "colab_type": "code",
    "id": "BGKX01EZAAG9",
    "outputId": "517f41e0-85a3-40ba-b999-fac451d32c49"
   },
   "outputs": [
    {
     "data": {
      "text/plain": [
       "49"
      ]
     },
     "execution_count": 50,
     "metadata": {
      "tags": []
     },
     "output_type": "execute_result"
    }
   ],
   "source": [
    "musics.groupBy('product_id').count().count()"
   ]
  },
  {
   "cell_type": "markdown",
   "metadata": {
    "colab_type": "text",
    "id": "MmaeeeJUAgbj"
   },
   "source": [
    "the largest number of reviews published by a single user"
   ]
  },
  {
   "cell_type": "code",
   "execution_count": 0,
   "metadata": {
    "colab": {
     "base_uri": "https://localhost:8080/",
     "height": 35
    },
    "colab_type": "code",
    "id": "HFSeEbOPAkVG",
    "outputId": "3327b56c-b969-4766-883d-4a5a7f5705d5"
   },
   "outputs": [
    {
     "data": {
      "text/plain": [
       "[Row(max(count)=2)]"
      ]
     },
     "execution_count": 59,
     "metadata": {
      "tags": []
     },
     "output_type": "execute_result"
    }
   ],
   "source": [
    "musics.groupBy('customer_id'). count().agg({\"count\": \"max\"}).collect()"
   ]
  },
  {
   "cell_type": "markdown",
   "metadata": {
    "colab_type": "text",
    "id": "iLv2zxPPAvs-"
   },
   "source": [
    "the top 10 users ranked by the number of reviews they publish"
   ]
  },
  {
   "cell_type": "code",
   "execution_count": 0,
   "metadata": {
    "colab": {
     "base_uri": "https://localhost:8080/",
     "height": 298
    },
    "colab_type": "code",
    "id": "IFTnglS_Dq46",
    "outputId": "f4286f7c-1eb3-4aa2-c0a5-73d275a86e81"
   },
   "outputs": [
    {
     "name": "stdout",
     "output_type": "stream",
     "text": [
      "+-----------+-----+\n",
      "|customer_id|count|\n",
      "+-----------+-----+\n",
      "|   47781982|    2|\n",
      "|   52006292|    1|\n",
      "|   20494593|    1|\n",
      "|    1662075|    1|\n",
      "|    6762003|    1|\n",
      "|   43880421|    1|\n",
      "|   43173394|    1|\n",
      "|   13394189|    1|\n",
      "|   32910511|    1|\n",
      "|   41168357|    1|\n",
      "+-----------+-----+\n",
      "only showing top 10 rows\n",
      "\n"
     ]
    }
   ],
   "source": [
    "from pyspark.sql.functions import *\n",
    "musics.groupBy('customer_id').count().orderBy(desc(\"count\")).show(10)"
   ]
  },
  {
   "cell_type": "markdown",
   "metadata": {
    "colab_type": "text",
    "id": "7btR0I0xAv06"
   },
   "source": [
    "the median number of reviews published by a user"
   ]
  },
  {
   "cell_type": "code",
   "execution_count": 0,
   "metadata": {
    "colab": {},
    "colab_type": "code",
    "id": "V1GpnqU9OYa2"
   },
   "outputs": [],
   "source": [
    "from pyspark.sql.window import Window\n",
    "music0 = musics.groupBy('customer_id').count()\n",
    "music1 = music0.withColumn(\"rowNum\", row_number().over(Window.orderBy(\"count\")))#partitionBy give different ranks for different XXX\n",
    "rows = music1.agg(collect_list(\"rowNum\")).collect()\n",
    "begin = rows[0][0][0]\n",
    "end = rows[0][0][-1]\n",
    "med = int((begin + end) /2)\n",
    "print (med)\n",
    "music1.filter(music1.rowNum==med).show()"
   ]
  },
  {
   "cell_type": "markdown",
   "metadata": {
    "colab_type": "text",
    "id": "KxFjPM4OA2xR"
   },
   "source": [
    "the largest number of reviews written for a single product"
   ]
  },
  {
   "cell_type": "code",
   "execution_count": null,
   "metadata": {},
   "outputs": [],
   "source": [
    "musics.groupBy('product_id'). count().agg({\"count\": \"max\"}).collect()"
   ]
  },
  {
   "cell_type": "markdown",
   "metadata": {
    "colab_type": "text",
    "id": "s4hqmRbQA8GB"
   },
   "source": [
    "the top 10 products ranked by the number of reviews they have"
   ]
  },
  {
   "cell_type": "code",
   "execution_count": null,
   "metadata": {},
   "outputs": [],
   "source": [
    "musics.groupBy('product_id').count().orderBy(desc(\"count\")).show(10)"
   ]
  },
  {
   "cell_type": "markdown",
   "metadata": {
    "colab_type": "text",
    "id": "VGzbsWAMA-EJ"
   },
   "source": [
    "the median number of reviews a product has"
   ]
  },
  {
   "cell_type": "code",
   "execution_count": null,
   "metadata": {},
   "outputs": [],
   "source": [
    "music0 = musics.groupBy('product_id').count()\n",
    "music1 = music0.withColumn(\"rowNum\", row_number().over(Window.orderBy(\"count\")))#partitionBy give different ranks for different XXX\n",
    "rows = music1.agg(collect_list(\"rowNum\")).collect()\n",
    "begin = rows[0][0][0]\n",
    "end = rows[0][0][-1]\n",
    "med = int((begin + end) /2)\n",
    "print (med)\n",
    "music1.filter(music1.rowNum==med).show()"
   ]
  }
 ],
 "metadata": {
  "colab": {
   "name": "stage_one.ipynb",
   "provenance": [],
   "version": "0.3.2"
  },
  "kernelspec": {
   "display_name": "Python 3",
   "language": "python",
   "name": "python3"
  },
  "language_info": {
   "codemirror_mode": {
    "name": "ipython",
    "version": 3
   },
   "file_extension": ".py",
   "mimetype": "text/x-python",
   "name": "python",
   "nbconvert_exporter": "python",
   "pygments_lexer": "ipython3",
   "version": "3.7.1"
  }
 },
 "nbformat": 4,
 "nbformat_minor": 1
}
