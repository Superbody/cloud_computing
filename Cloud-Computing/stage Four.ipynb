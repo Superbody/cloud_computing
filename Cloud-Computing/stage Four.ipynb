{
 "cells": [
  {
   "cell_type": "code",
   "execution_count": null,
   "metadata": {},
   "outputs": [],
   "source": [
    "!apt-get install openjdk-8-jdk-headless -qq > /dev/null\n",
    "!pip install -q findspark"
   ]
  },
  {
   "cell_type": "code",
   "execution_count": null,
   "metadata": {},
   "outputs": [],
   "source": [
    "import os\n",
    "os.environ[\"JAVA_HOME\"] = \"/usr/lib/jvm/java-8-openjdk-amd64\"\n",
    "os.environ[\"SPARK_HOME\"] = \"/content/spark-2.4.2-bin-hadoop2.7\"\n",
    "import findspark\n",
    "findspark.init()"
   ]
  },
  {
   "cell_type": "code",
   "execution_count": null,
   "metadata": {},
   "outputs": [],
   "source": [
    "from pyspark.sql import SparkSession\n",
    "from pyspark.sql.types import *\n",
    "spark = SparkSession \\\n",
    "    .builder \\\n",
    "    .appName(\"Python Spark Stage four\") \\\n",
    "    .getOrCreate()\n",
    "music_data = 'https://s3.amazonaws.com/amazon-reviews-pds/tsv/amazon_reviews_us_Music_v1_00.tsv.gz'\n",
    "musics= spark.read.csv(music_data,header=True,sep='\\t')"
   ]
  },
  {
   "cell_type": "code",
   "execution_count": null,
   "metadata": {},
   "outputs": [],
   "source": [
    "import nltk\n",
    "nltk.download('punkt')"
   ]
  },
  {
   "cell_type": "code",
   "execution_count": null,
   "metadata": {},
   "outputs": [],
   "source": [
    "from pyspark.sql.functions import *\n",
    "from nltk.tokenize import sent_tokenize\n",
    "def sent_token(s):\n",
    "    sent_list = sent_tokenize(str(s))\n",
    "    return sent_list\n",
    "seg = udf(lambda s: sent_token(s), ArrayType(StringType()))\n",
    "musics = musics.withColumn('sentences',seg(musics.review_body).alias('seg'))\n",
    "musics.show()\n",
    "musics_review = musics.select(musics.review_id, musics.star_rating, explode(musics.sentences).alias(\"sentence\"))"
   ]
  },
  {
   "cell_type": "code",
   "execution_count": null,
   "metadata": {},
   "outputs": [],
   "source": [
    "musics_review = musics_review.filter(length(musics_review.sentence)>1)\n",
    "end = musics_review.count()\n",
    "musics_review.show()"
   ]
  },
  {
   "cell_type": "code",
   "execution_count": null,
   "metadata": {},
   "outputs": [],
   "source": [
    "musicsP=musics_review.filter(musics.star_rating>=4)\n",
    "musicsN=musics_review.filter(musics.star_rating<=2)"
   ]
  },
  {
   "cell_type": "code",
   "execution_count": null,
   "metadata": {},
   "outputs": [],
   "source": [
    "musicsP= musicsP.withColumn(\"id\", monotonically_increasing_id())\n",
    "musicsN = musicsN.withColumn(\"id\", monotonically_increasing_id())"
   ]
  },
  {
   "cell_type": "code",
   "execution_count": null,
   "metadata": {},
   "outputs": [],
   "source": [
    "from pyspark.ml.feature import HashingTF, IDF, Tokenizer\n",
    "\n",
    "tokenizer = Tokenizer(inputCol=\"sentence\", outputCol=\"words\")\n",
    "wordsDataP = tokenizer.transform(musicsP)\n",
    "\n",
    "word2Vec = Word2Vec(vectorSize=300, minCount=0, inputCol=\"words\", outputCol=\"result\")\n",
    "modelP = word2Vec.fit(wordsDataP)\n",
    "resultP = modelP.transform(wordsDataP)\n",
    "wordsDataN = tokenizer.transform(musicsN)\n",
    "\n",
    "modelN = word2Vec.fit(wordsDataN)\n",
    "resultN = modelN.transform(wordsDataN)"
   ]
  },
  {
   "cell_type": "code",
   "execution_count": null,
   "metadata": {},
   "outputs": [],
   "source": [
    "review_embedding_P = resultP.select('result')\n",
    "review_embedding_N = resultN.select('result')"
   ]
  },
  {
   "cell_type": "code",
   "execution_count": null,
   "metadata": {},
   "outputs": [],
   "source": [
    "list_P = review_embedding_P.collect()\n",
    "list_N = review_embedding_N.collect()"
   ]
  },
  {
   "cell_type": "code",
   "execution_count": null,
   "metadata": {},
   "outputs": [],
   "source": [
    "import numpy as np\n",
    "list_P = np.array(list_P)\n",
    "list_N = np.array(list_N)"
   ]
  },
  {
   "cell_type": "code",
   "execution_count": null,
   "metadata": {},
   "outputs": [],
   "source": [
    "list_P=list_P.reshape(-1,300)\n",
    "list_N=list_N.reshape(-1,300)"
   ]
  },
  {
   "cell_type": "code",
   "execution_count": null,
   "metadata": {},
   "outputs": [],
   "source": [
    "def calculate_similarity(rew1,rew2):\n",
    "    mul=np.dot(rew1,rew2)\n",
    "    norm=np.linalg.norm(rew1)*np.linalg.norm(rew2)\n",
    "    return mul/norm\n",
    "    "
   ]
  },
  {
   "cell_type": "code",
   "execution_count": null,
   "metadata": {},
   "outputs": [],
   "source": [
    "def min_sim(List):\n",
    "    for i in range(0,len(List)):\n",
    "        sumOfsim = 0\n",
    "        for j in range(0,len(List)):\n",
    "            sumOfsim = sumOfsim + (1 - calculate_similarity(List[i],List[j]))        \n",
    "        if (i == 0 ):\n",
    "            min_sum = sumOfsim\n",
    "            index = 0\n",
    "        else:\n",
    "            if (sumOfsim < min_sum):\n",
    "                min_sum = sumOfsim\n",
    "                index = i\n",
    "    return min_sum , index"
   ]
  },
  {
   "cell_type": "code",
   "execution_count": null,
   "metadata": {},
   "outputs": [],
   "source": [
    "min_P,index_P = min_sim(list_P)\n",
    "min_N,index_N = min_sim(list_N)"
   ]
  },
  {
   "cell_type": "code",
   "execution_count": null,
   "metadata": {},
   "outputs": [],
   "source": [
    "print(min_P,index_P)\n",
    "print(min_N,index_N)"
   ]
  },
  {
   "cell_type": "code",
   "execution_count": null,
   "metadata": {},
   "outputs": [],
   "source": [
    "def TenNeighbors(List , index):\n",
    "    list = []\n",
    "    for i in range(len(List)):\n",
    "        sim = (1-calculate_similarity(List[i],List[index]))\n",
    "        list.append(sim)\n",
    "    indexes = np.argsort(list)\n",
    "    return indexes[:11]"
   ]
  },
  {
   "cell_type": "code",
   "execution_count": null,
   "metadata": {},
   "outputs": [],
   "source": [
    "indexes_P = TenNeighbors(list_P , index_P)\n",
    "indexes_N = TenNeighbors(list_N , index_N)\n",
    "print(indexes_P,indexes_N)"
   ]
  },
  {
   "cell_type": "code",
   "execution_count": null,
   "metadata": {},
   "outputs": [],
   "source": [
    "indexes_P = indexes_P.tolist()\n",
    "indexes_N = indexes_N.tolist()"
   ]
  },
  {
   "cell_type": "code",
   "execution_count": null,
   "metadata": {},
   "outputs": [],
   "source": [
    "musicsP.select('review_id','sentence').filter(musicsP.id.isin(indexes_P)).collect()"
   ]
  },
  {
   "cell_type": "code",
   "execution_count": null,
   "metadata": {},
   "outputs": [],
   "source": [
    "musicsN.select('review_id','sentence').filter(musicsN.id.isin(indexes_N)).collect()"
   ]
  }
 ],
 "metadata": {
  "kernelspec": {
   "display_name": "Python 3",
   "language": "python",
   "name": "python3"
  },
  "language_info": {
   "codemirror_mode": {
    "name": "ipython",
    "version": 3
   },
   "file_extension": ".py",
   "mimetype": "text/x-python",
   "name": "python",
   "nbconvert_exporter": "python",
   "pygments_lexer": "ipython3",
   "version": "3.7.1"
  }
 },
 "nbformat": 4,
 "nbformat_minor": 2
}
