{
 "cells": [
  {
   "cell_type": "markdown",
   "metadata": {
    "colab_type": "text",
    "id": "gXipyA3fV4h_"
   },
   "source": [
    "Task 1: Shunyu\n",
    "\n",
    "• reviews with less than two sentences in the review body."
   ]
  },
  {
   "cell_type": "code",
   "execution_count": null,
   "metadata": {},
   "outputs": [],
   "source": [
    "from pyspark.sql import SparkSession\n",
    "from pyspark.sql.types import *"
   ]
  },
  {
   "cell_type": "code",
   "execution_count": null,
   "metadata": {},
   "outputs": [],
   "source": [
    "spark = SparkSession \\\n",
    "    .builder \\\n",
    "    .appName(\"Python Spark Stage two\") \\\n",
    "    .getOrCreate()"
   ]
  },
  {
   "cell_type": "code",
   "execution_count": null,
   "metadata": {},
   "outputs": [],
   "source": [
    "music_data = 's3://amazon-reviews-pds/tsv/amazon_reviews_us_Music_v1_00.tsv.gz'"
   ]
  },
  {
   "cell_type": "code",
   "execution_count": null,
   "metadata": {},
   "outputs": [],
   "source": [
    "musics= spark.read.csv(music_data,header=True,sep='\\t')"
   ]
  },
  {
   "cell_type": "code",
   "execution_count": null,
   "metadata": {},
   "outputs": [],
   "source": [
    "import nltk\n",
    "nltk.download('punkt')"
   ]
  },
  {
   "cell_type": "code",
   "execution_count": 0,
   "metadata": {
    "colab": {},
    "colab_type": "code",
    "id": "ksRPK56sVy3E"
   },
   "outputs": [],
   "source": [
    "from pyspark.sql.functions import *\n",
    "from nltk.tokenize import sent_tokenize\n",
    "def sent_token(s):\n",
    "    sent_list = sent_tokenize(str(s))\n",
    "    num = len(sent_list)\n",
    "    return int(num)\n",
    "slen = udf(lambda s: sent_token(s), IntegerType())\n",
    "musics=musics.withColumn('sent_num',slen(musics.review_body).alias('slen'))\n",
    "musics.filter(musics.sent_num >= 2)\n",
    "musics.show()"
   ]
  },
  {
   "cell_type": "markdown",
   "metadata": {
    "colab_type": "text",
    "id": "YvSuZg1HV-d7"
   },
   "source": [
    "Task 2: Keyi\n",
    "\n",
    "• reviews from products with less than median number of reviews received\n",
    "• reviews published by users with less than median number of reviews published"
   ]
  },
  {
   "cell_type": "code",
   "execution_count": 0,
   "metadata": {
    "colab": {},
    "colab_type": "code",
    "id": "43haIVzRWFEV"
   },
   "outputs": [],
   "source": [
    "music0 = musics_first.groupBy('product_id').count()\n",
    "music1 = music0.withColumn(\"rowNum\", row_number().over(Window.orderBy(\"count\")))#partitionBy give different ranks for different XXX\n",
    "rows = music1.agg(collect_list(\"rowNum\")).collect()\n",
    "begin = rows[0][0][0]\n",
    "end = rows[0][0][-1]\n",
    "med = int((begin + end) /2)\n",
    "print (med)\n",
    "keys=music1.filter(music1.rowNum>med).agg(collect_list(\"product_id\")).collect()\n",
    "#print(keys[0][0])\n",
    "musics_first.filter(musics.product_id.isin(keys[0][0])).show(10)"
   ]
  },
  {
   "cell_type": "code",
   "execution_count": 0,
   "metadata": {
    "colab": {},
    "colab_type": "code",
    "id": "WHrcHU1PWEpb"
   },
   "outputs": [],
   "source": [
    "music0 = musics_first.groupBy('customer_id').count()\n",
    "music1 = music0.withColumn(\"rowNum\", row_number().over(Window.orderBy(\"count\")))#partitionBy give different ranks for different XXX\n",
    "rows = music1.agg(collect_list(\"rowNum\")).collect()\n",
    "begin = rows[0][0][0]\n",
    "end = rows[0][0][-1]\n",
    "med = int((begin + end) /2)\n",
    "print (med)\n",
    "keys=music1.filter(music1.rowNum>med).agg(collect_list(\"customer_id\")).collect()\n",
    "print(keys[0][0])\n",
    "musics_first.filter(musics.customer_id.isin(keys[0][0])).show(10)"
   ]
  },
  {
   "cell_type": "markdown",
   "metadata": {},
   "source": [
    "task 3: yuling\n",
    "\n",
    "• top 10 users ranked by median number of sentences in the reviews they have pub- lished;\n",
    "• top 10 products ranked by median number of sentences in the reviews they have received;"
   ]
  },
  {
   "cell_type": "code",
   "execution_count": null,
   "metadata": {},
   "outputs": [],
   "source": [
    "##top 10 users ranked by median number of sentences in the reviews they have received\n",
    "\n",
    "import pyspark.sql.functions\n",
    "import numpy as np\n",
    "from pyspark.sql.types import FloatType\n",
    "\n",
    "def median(lists):\n",
    "    try:\n",
    "        median = np.median(lists)\n",
    "        return float(median)\n",
    "    except Exception:\n",
    "        return None \n",
    "\n",
    "median_finder = udf(median,FloatType())\n",
    "slen = udf(lambda s: len(sent_tokenize(s)), IntegerType())\n",
    "sentences=musics_first.withColumn('sent_num',slen(musics['review_body']).alias('slen'))\n",
    "sentences_list = sentences.groupBy(musics_first['customer_id']).agg(collect_list(\"sent_num\").alias(\"lists\"))\n",
    "sentences_list1 = sentences_list.withColumn('median',median_finder('lists'))\n",
    "top10users = sentences_list1.orderBy(desc(\"median\"))\n",
    "top10users.show(10)"
   ]
  },
  {
   "cell_type": "code",
   "execution_count": null,
   "metadata": {},
   "outputs": [],
   "source": [
    "##top 10 products ranked by median number of sentences in the reviews they have received\n",
    "\n",
    "product_list = musics_first.groupBy('product_id').agg(collect_list(\"sent_num\").alias('lists_sentnum'))\n",
    "product_list1 = product_list.withColumn('median',median_finder('lists_sentnum'))\n",
    "top10products = product_list1.orderBy(desc('median'))\n",
    "top10products.show(10)"
   ]
  }
 ],
 "metadata": {
  "colab": {
   "name": "stage_two.ipynb",
   "provenance": [],
   "version": "0.3.2"
  },
  "kernelspec": {
   "display_name": "Python 3",
   "language": "python",
   "name": "python3"
  },
  "language_info": {
   "codemirror_mode": {
    "name": "ipython",
    "version": 3
   },
   "file_extension": ".py",
   "mimetype": "text/x-python",
   "name": "python",
   "nbconvert_exporter": "python",
   "pygments_lexer": "ipython3",
   "version": "3.7.1"
  }
 },
 "nbformat": 4,
 "nbformat_minor": 1
}
